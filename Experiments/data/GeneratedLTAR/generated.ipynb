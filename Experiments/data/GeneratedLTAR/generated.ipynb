{
 "cells": [
  {
   "cell_type": "code",
   "execution_count": 1,
   "metadata": {},
   "outputs": [],
   "source": [
    "import numpy as np\n",
    "import pandas as pd\n",
    "import numpy.random as random\n",
    "import matplotlib.pyplot as plt"
   ]
  },
  {
   "cell_type": "code",
   "execution_count": 20,
   "metadata": {},
   "outputs": [],
   "source": [
    "def mul_ten_and_mat(tensor, matrix):\n",
    "    ten_shape = tensor.shape\n",
    "    result = np.zeros((ten_shape[0], ten_shape[2]))\n",
    "    for i in range(ten_shape[2]):\n",
    "        result[:,i] = tensor[:,:,i].dot(matrix[:,i])\n",
    "    return result\n",
    "\n",
    "random.seed(99)\n",
    "\n",
    "N = 4000\n",
    "l = 20\n",
    "A1 = np.zeros((l,l,l))\n",
    "np.fill_diagonal(A1[0], 0.8)\n",
    "tmp = np.repeat(0.5, l**2).reshape((l,l))\n",
    "\n",
    "anomaly_start = N - 1000\n",
    "data = np.zeros((N, l, l))\n",
    "data[0] = tmp\n",
    "e = .1\n",
    "for i in range(1, anomaly_start):\n",
    "    data[i] = mul_ten_and_mat(A1, data[i-1]) + random.uniform(0, e, (l, l))\n",
    "for i in range(anomaly_start, N):\n",
    "    e += 0.00001\n",
    "    data[i] = mul_ten_and_mat(A1, data[i-1]) + random.uniform(0, e, (l, l))\n"
   ]
  },
  {
   "cell_type": "code",
   "execution_count": 21,
   "metadata": {},
   "outputs": [
    {
     "data": {
      "text/plain": [
       "[<matplotlib.lines.Line2D at 0x7f669fea3e50>]"
      ]
     },
     "execution_count": 21,
     "metadata": {},
     "output_type": "execute_result"
    },
    {
     "data": {
      "image/png": "[encoded data removed]",
      "text/plain": [
       "<Figure size 432x288 with 1 Axes>"
      ]
     },
     "metadata": {
      "needs_background": "light"
     },
     "output_type": "display_data"
    }
   ],
   "source": [
    "norms = []\n",
    "for obs in data:\n",
    "    norms.append(np.linalg.norm(obs))\n",
    "plt.plot(norms)"
   ]
  },
  {
   "cell_type": "code",
   "execution_count": 13,
   "metadata": {},
   "outputs": [],
   "source": [
    "for i in range(N):\n",
    "    np.savetxt(f\"Observation{i}.txt\", data[i])"
   ]
  }
 ],
 "metadata": {
  "interpreter": {
   "hash": "916dbcbb3f70747c44a77c7bcd40155683ae19c65e1c03b4aa3499c5328201f1"
  },
  "kernelspec": {
   "display_name": "Python 3.8.10 64-bit",
   "language": "python",
   "name": "python3"
  },
  "language_info": {
   "codemirror_mode": {
    "name": "ipython",
    "version": 3
   },
   "file_extension": ".py",
   "mimetype": "text/x-python",
   "name": "python",
   "nbconvert_exporter": "python",
   "pygments_lexer": "ipython3",
   "version": "3.8.10"
  },
  "orig_nbformat": 4
 },
 "nbformat": 4,
 "nbformat_minor": 2
}
